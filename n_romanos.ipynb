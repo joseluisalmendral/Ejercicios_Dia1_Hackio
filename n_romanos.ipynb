{
 "cells": [
  {
   "cell_type": "markdown",
   "metadata": {},
   "source": [
    "#EJERCICIO NUMEROS ROMANOS"
   ]
  },
  {
   "cell_type": "markdown",
   "metadata": {},
   "source": [
    "•El número debe estar entre 1 y 3999, ambos inclusive.\n",
    "•La conversión debe seguir las reglas del sistema romano, donde las letras tienen los siguientes valores:\n",
    "•Para números específicos como 4, 9, 40, 90, 400 y 900, se utilizan combinaciones especiales (por ejemplo, IV para 4, IX para 9).\n",
    "•La función debe devolver la representación correcta en números romanos, respetando las combinaciones necesarias para números intermedios."
   ]
  },
  {
   "cell_type": "code",
   "execution_count": 15,
   "metadata": {},
   "outputs": [
    {
     "name": "stdout",
     "output_type": "stream",
     "text": [
      "La respresentacion de 10 en numeros romanos es: X\n"
     ]
    }
   ],
   "source": [
    "import roman\n",
    "\n",
    "def convertir_romano(numero):\n",
    "    \"\"\"_summary_\n",
    "\n",
    "    Args:\n",
    "        numero (_type_): _description_\n",
    "    \"\"\"    \n",
    "    print(f\"La respresentacion de {numero} en numeros romanos es: \" + roman.toRoman(numero))\n",
    "\n",
    "\n",
    "convertir_romano(10)\n"
   ]
  }
 ],
 "metadata": {
  "kernelspec": {
   "display_name": "Python 3",
   "language": "python",
   "name": "python3"
  },
  "language_info": {
   "codemirror_mode": {
    "name": "ipython",
    "version": 3
   },
   "file_extension": ".py",
   "mimetype": "text/x-python",
   "name": "python",
   "nbconvert_exporter": "python",
   "pygments_lexer": "ipython3",
   "version": "3.12.4"
  }
 },
 "nbformat": 4,
 "nbformat_minor": 2
}
