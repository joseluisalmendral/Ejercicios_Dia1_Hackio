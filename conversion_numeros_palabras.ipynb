{
 "cells": [
  {
   "cell_type": "markdown",
   "metadata": {},
   "source": [
    "Conversión de números a palabras: Crea una función que reciba un número entero entre 1 y 9999, y devuelva su representación en palabras en español. El objetivo es convertir un número entero entre 1 y 9999 a su equivalente en palabras en español. Por ejemplo, el número 123 debe convertirse en “ciento veintitrés”. Las reglas son:\n",
    "- Los números del 1 al 9 se escriben como “uno”, “dos”, “tres”, etc.\n",
    "- Los números del 10 al 19 tienen formas especiales: “diez”, “once”, “doce”, etc.\n",
    "- Los números del 20 al 99 se dividen en decenas y unidades: “veinte”, “treinta y uno”, etc.\n",
    "- Los números del 100 al 9999 siguen las reglas del sistema de centenas: “ciento”, “doscientos”, “mil”, etc."
   ]
  },
  {
   "cell_type": "code",
   "execution_count": 12,
   "metadata": {},
   "outputs": [
    {
     "name": "stdout",
     "output_type": "stream",
     "text": [
      "diez\n"
     ]
    }
   ],
   "source": [
    "import inflect\n",
    "from deep_translator import GoogleTranslator\n",
    "\n",
    "def traducir_numero(n):\n",
    "    traductor = GoogleTranslator(source='en', target='es')\n",
    "    p = inflect.engine()\n",
    "    p.number_to_words(n)\n",
    "\n",
    "    return traductor.translate(p.number_to_words(n))\n",
    "\n",
    "print(traducir_numero(10))"
   ]
  }
 ],
 "metadata": {
  "kernelspec": {
   "display_name": "Python 3",
   "language": "python",
   "name": "python3"
  },
  "language_info": {
   "codemirror_mode": {
    "name": "ipython",
    "version": 3
   },
   "file_extension": ".py",
   "mimetype": "text/x-python",
   "name": "python",
   "nbconvert_exporter": "python",
   "pygments_lexer": "ipython3",
   "version": "3.12.4"
  }
 },
 "nbformat": 4,
 "nbformat_minor": 2
}
