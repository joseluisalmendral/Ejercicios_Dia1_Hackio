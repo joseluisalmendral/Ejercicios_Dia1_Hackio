{
 "cells": [
  {
   "cell_type": "code",
   "execution_count": 44,
   "metadata": {},
   "outputs": [
    {
     "name": "stdout",
     "output_type": "stream",
     "text": [
      "[0, 1, 1, 2, 3, 5, 8]\n"
     ]
    }
   ],
   "source": [
    "def fibo(n):\n",
    "\n",
    "    if (n < 0):\n",
    "        return []\n",
    "    \n",
    "    resultado = [0, 1]\n",
    "    while (resultado[-2]+resultado[-1]) <= n:\n",
    "        resultado.append(resultado[-2]+resultado[-1])\n",
    "\n",
    "    return resultado\n",
    "        \n",
    "\n",
    "print(fibo(10))"
   ]
  }
 ],
 "metadata": {
  "kernelspec": {
   "display_name": "Python 3",
   "language": "python",
   "name": "python3"
  },
  "language_info": {
   "codemirror_mode": {
    "name": "ipython",
    "version": 3
   },
   "file_extension": ".py",
   "mimetype": "text/x-python",
   "name": "python",
   "nbconvert_exporter": "python",
   "pygments_lexer": "ipython3",
   "version": "3.12.4"
  }
 },
 "nbformat": 4,
 "nbformat_minor": 2
}
