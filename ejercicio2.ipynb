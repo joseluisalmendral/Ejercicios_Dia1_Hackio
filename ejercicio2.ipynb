{
 "cells": [
  {
   "cell_type": "code",
   "execution_count": 6,
   "metadata": {},
   "outputs": [
    {
     "name": "stdout",
     "output_type": "stream",
     "text": [
      "a por ello\n"
     ]
    }
   ],
   "source": [
    "print(\"a por ello\")"
   ]
  },
  {
   "cell_type": "code",
   "execution_count": 7,
   "metadata": {},
   "outputs": [
    {
     "name": "stdout",
     "output_type": "stream",
     "text": [
      "[(2, 5), (3, 4), (1, 2, 4)]\n"
     ]
    }
   ],
   "source": [
    "from itertools import combinations \n",
    "\n",
    "numeros = []\n",
    "while True:\n",
    "    numero = int(input(\"Ingresa un número entero: \"))\n",
    "\n",
    "    if numero == -1:\n",
    "        break\n",
    "\n",
    "    numeros.append(numero) \n",
    "\n",
    "\n",
    "def find_combinations(lista_numeros, numero_objetivo): \n",
    "    \"\"\"_summary_\n",
    "\n",
    "    Args:\n",
    "        lista_numeros (_type_): numeros ingresados por el usuario\n",
    "        numero_objetivo (_type_): numero objetivo ingresado por el usuario\n",
    "\n",
    "    Returns:\n",
    "        _type_: _description_\n",
    "    \"\"\"    \n",
    "    return [combo for r in range(1, len(lista_numeros) + 1) for combo in combinations(lista_numeros, r) if sum(combo) == numero_objetivo] \n",
    "\n",
    "\n",
    "n_objetivo = int((input(\"INGRESA EL NUMERO OBJETIVO\")))\n",
    "combinations_list = find_combinations(numeros, n_objetivo) \n",
    "print(combinations_list)\n",
    " \n"
   ]
  }
 ],
 "metadata": {
  "kernelspec": {
   "display_name": "Python 3",
   "language": "python",
   "name": "python3"
  },
  "language_info": {
   "codemirror_mode": {
    "name": "ipython",
    "version": 3
   },
   "file_extension": ".py",
   "mimetype": "text/x-python",
   "name": "python",
   "nbconvert_exporter": "python",
   "pygments_lexer": "ipython3",
   "version": "3.12.4"
  }
 },
 "nbformat": 4,
 "nbformat_minor": 2
}
